{
 "cells": [
  {
   "attachments": {},
   "cell_type": "markdown",
   "metadata": {},
   "source": [
    "## Clases y Programación Orientada a Objetos"
   ]
  },
  {
   "attachments": {},
   "cell_type": "markdown",
   "metadata": {},
   "source": [
    "1) Crear la clase vehículo que contenga los atributos:<br>\n",
    "Color<br>\n",
    "Si es moto, auto, camioneta ó camión<br>\n",
    "Cilindrada del motor"
   ]
  },
  {
   "cell_type": "code",
   "execution_count": 1,
   "metadata": {},
   "outputs": [],
   "source": [
    "class Vehiculo:\n",
    "    def __init__(self, color:str, tipo:str, cilindraje:float):\n",
    "        self.color=color\n",
    "        self.tipo=tipo\n",
    "        self.cilindraje=cilindraje"
   ]
  },
  {
   "attachments": {},
   "cell_type": "markdown",
   "metadata": {},
   "source": [
    "2) A la clase Vehiculo creada en el punto 1, agregar los siguientes métodos:<br>\n",
    "Acelerar<br>\n",
    "Frenar<br>\n",
    "Doblar<br>"
   ]
  },
  {
   "cell_type": "code",
   "execution_count": 13,
   "metadata": {},
   "outputs": [],
   "source": [
    "class Vehiculo:\n",
    "    def __init__(self, color:str, tipo:str, cilindraje:float):\n",
    "        self.color=color\n",
    "        self.tipo=tipo\n",
    "        self.cilindraje=cilindraje\n",
    "        self.aceleracion=0.0\n",
    "        self.direccion=0.0\n",
    "\n",
    "    def acelerar(self,aumento:float):\n",
    "        if self.aceleracion == 0:\n",
    "            self.aceleracion += aumento\n",
    "            print(\"El vehículo se encontraba quieto y ahora aumentara su velocidad a: \"+str(aumento)+\" K/M\")\n",
    "        elif self.aceleracion < 0:\n",
    "            self.aceleracion += aumento\n",
    "            if self.aceleracion > 0:\n",
    "                print(\"El vehículo se encontraba en reversa y ahora se encuentra a: \"+str(self.aceleracion)+\" K/M\")\n",
    "            elif self.aceleracion == 0:\n",
    "                print(\"El vehículo se ha detenido\")\n",
    "        elif self.aceleracion > 0:\n",
    "            self.aceleracion += aumento\n",
    "            print(\"El vehículo a aumentado su velocidad a: \"+str(self.aceleracion)+\" K/M\")\n",
    "    def frenar(self, disminucion:float):\n",
    "        if self.aceleracion == 0:\n",
    "            print(\"El vehículo ya se encuentra quieto, no se puede frenar\")\n",
    "        elif self.aceleracion < 0:\n",
    "            nueva_velocidad = self.aceleracion + disminucion\n",
    "            if nueva_velocidad > 0:\n",
    "                print(\"Has frenado quedándote a 0 km y luego mantuviste el freno un poco más, supongo que por psicosis\")\n",
    "                self.aceleracion = 0\n",
    "            else:\n",
    "                self.aceleracion = nueva_velocidad\n",
    "                print(\"Tu nueva velocidad es de: \"+str(self.aceleracion)+\" K/H\")\n",
    "        elif self.aceleracion > 0:\n",
    "            nueva_velocidad = self.aceleracion - disminucion\n",
    "            if nueva_velocidad < 0:\n",
    "                print(\"Has frenado quedándote a 0 km y luego mantuviste el freno un poco más, supongo que por psicosis\")\n",
    "                self.aceleracion = 0\n",
    "            else:\n",
    "                self.aceleracion = nueva_velocidad\n",
    "                print(\"Tu nueva velocidad es de: \"+str(self.aceleracion)+\" K/H\")\n",
    "    def doblar(self, grados):\n",
    "        self.direccion += grados\n",
    "        print(\"Tu dirección actual es: \"+str(self.direccion)+\" grados\")\n",
    "\n"
   ]
  },
  {
   "attachments": {},
   "cell_type": "markdown",
   "metadata": {},
   "source": [
    "3) Instanciar 3 objetos de la clase vehículo y ejecutar sus métodos, probar luego el resultado"
   ]
  },
  {
   "cell_type": "code",
   "execution_count": 14,
   "metadata": {},
   "outputs": [
    {
     "name": "stdout",
     "output_type": "stream",
     "text": [
      "El vehículo se encontraba quieto y ahora aumentara su velocidad a: 30 K/M\n",
      "El vehículo ya se encuentra quieto, no se puede frenar\n",
      "Tu dirección actual es: 45.0 grados\n"
     ]
    }
   ],
   "source": [
    "# Crear instancias de vehículos\n",
    "vehiculo1 = Vehiculo(\"Rojo\", \"Auto\", 2.0)\n",
    "vehiculo2 = Vehiculo(\"Azul\", \"Camioneta\", 3.5)\n",
    "vehiculo3 = Vehiculo(\"Verde\", \"Moto\", 1.2)\n",
    "\n",
    "# Ejecutar métodos\n",
    "vehiculo1.acelerar(30)\n",
    "vehiculo2.frenar(10)\n",
    "vehiculo3.doblar(45)\n"
   ]
  },
  {
   "attachments": {},
   "cell_type": "markdown",
   "metadata": {},
   "source": [
    "4) Agregar a la clase Vehiculo, un método que muestre su estado, es decir, a que velocidad se encuentra y su dirección. Y otro método que muestre color, tipo y cilindrada"
   ]
  },
  {
   "cell_type": "code",
   "execution_count": 15,
   "metadata": {},
   "outputs": [],
   "source": [
    "class Vehiculo:\n",
    "    def __init__(self, color:str, tipo:str, cilindraje:float):\n",
    "        self.color=color\n",
    "        self.tipo=tipo\n",
    "        self.cilindraje=cilindraje\n",
    "        self.aceleracion=0.0\n",
    "        self.direccion=0.0\n",
    "\n",
    "    def acelerar(self,aumento:float):\n",
    "        if self.aceleracion == 0:\n",
    "            self.aceleracion += aumento\n",
    "            print(\"El vehículo se encontraba quieto y ahora aumentara su velocidad a: \"+str(aumento)+\" K/M\")\n",
    "        elif self.aceleracion < 0:\n",
    "            self.aceleracion += aumento\n",
    "            if self.aceleracion > 0:\n",
    "                print(\"El vehículo se encontraba en reversa y ahora se encuentra a: \"+str(self.aceleracion)+\" K/M\")\n",
    "            elif self.aceleracion == 0:\n",
    "                print(\"El vehículo se ha detenido\")\n",
    "        elif self.aceleracion > 0:\n",
    "            self.aceleracion += aumento\n",
    "            print(\"El vehículo a aumentado su velocidad a: \"+str(self.aceleracion)+\" K/M\")\n",
    "    def frenar(self, disminucion:float):\n",
    "        if self.aceleracion == 0:\n",
    "            print(\"El vehículo ya se encuentra quieto, no se puede frenar\")\n",
    "        elif self.aceleracion < 0:\n",
    "            nueva_velocidad = self.aceleracion + disminucion\n",
    "            if nueva_velocidad > 0:\n",
    "                print(\"Has frenado quedándote a 0 km y luego mantuviste el freno un poco más, supongo que por psicosis\")\n",
    "                self.aceleracion = 0\n",
    "            else:\n",
    "                self.aceleracion = nueva_velocidad\n",
    "                print(\"Tu nueva velocidad es de: \"+str(self.aceleracion)+\" K/H\")\n",
    "        elif self.aceleracion > 0:\n",
    "            nueva_velocidad = self.aceleracion - disminucion\n",
    "            if nueva_velocidad < 0:\n",
    "                print(\"Has frenado quedándote a 0 km y luego mantuviste el freno un poco más, supongo que por psicosis\")\n",
    "                self.aceleracion = 0\n",
    "            else:\n",
    "                self.aceleracion = nueva_velocidad\n",
    "                print(\"Tu nueva velocidad es de: \"+str(self.aceleracion)+\" K/H\")\n",
    "    def doblar(self, grados):\n",
    "        self.direccion += grados\n",
    "        print(\"Tu dirección actual es: \"+str(self.direccion)+\" grados\")\n",
    "\n",
    "    def mostrar_estado(self):\n",
    "        print(f\"Velocidad: {self.aceleracion} km/h, Dirección: {self.direccion} grados\")\n",
    "\n",
    "    def mostrar_info(self):\n",
    "        print(f\"Color: {self.color}, Tipo: {self.tipo}, Cilindrada: {self.cilindraje}\")"
   ]
  },
  {
   "attachments": {},
   "cell_type": "markdown",
   "metadata": {},
   "source": [
    "5) Crear una clase que permita utilizar las funciones creadas en la práctica del módulo 7<br>\n",
    "Verificar Primo<br>\n",
    "Valor modal<br>\n",
    "Conversión grados<br>\n",
    "Factorial<br>"
   ]
  },
  {
   "cell_type": "code",
   "execution_count": 34,
   "metadata": {},
   "outputs": [],
   "source": [
    "class Utilidades:\n",
    "    def es_primo(n):\n",
    "        if n <= 1:\n",
    "            return False\n",
    "        if n <= 3:\n",
    "            return True\n",
    "        if n % 2 == 0 or n % 3 == 0:\n",
    "            return False\n",
    "        i = 5\n",
    "        while i * i <= n:\n",
    "            if n % i == 0 or n % (i + 2) == 0:\n",
    "                return False\n",
    "            i += 6\n",
    "        return True\n",
    "\n",
    "    def valor_modal(lista):\n",
    "        frecuencias = {}\n",
    "        for num in lista:\n",
    "            if num in frecuencias:\n",
    "                frecuencias[num] += 1\n",
    "            else:\n",
    "                frecuencias[num] = 1\n",
    "        moda = max(frecuencias, key=frecuencias.get)\n",
    "        return moda\n",
    "\n",
    "    def convertir_grados_celsius_a_fahrenheit(grados_celsius):\n",
    "        return (grados_celsius * 9/5) + 32\n",
    "\n",
    "    def factorial(n):\n",
    "        if n == 0:\n",
    "            return 1\n",
    "        else:\n",
    "            return n * Modulo7Functions.factorial(n-1)"
   ]
  },
  {
   "attachments": {},
   "cell_type": "markdown",
   "metadata": {},
   "source": [
    "6) Probar las funciones incorporadas en la clase del punto 5"
   ]
  },
  {
   "cell_type": "code",
   "execution_count": 35,
   "metadata": {},
   "outputs": [
    {
     "name": "stdout",
     "output_type": "stream",
     "text": [
      "True\n",
      "3\n",
      "68.0\n",
      "120\n"
     ]
    }
   ],
   "source": [
    "modulo7 = Utilidades()\n",
    "print(modulo7.es_primo(7))\n",
    "print(modulo7.valor_modal([1, 2, 2, 3, 3, 3, 4, 5]))\n",
    "print(modulo7.convertir_grados_celsius_a_fahrenheit(20))\n",
    "print(modulo7.factorial(5))"
   ]
  },
  {
   "attachments": {},
   "cell_type": "markdown",
   "metadata": {},
   "source": [
    "7) Es necesario que la clase creada en el punto 5 contenga una lista, sobre la cual se apliquen las funciones incorporadas"
   ]
  },
  {
   "cell_type": "code",
   "execution_count": 37,
   "metadata": {},
   "outputs": [],
   "source": [
    "class Utilidades:\n",
    "    def __init__(self, lista):\n",
    "        self.lista = lista\n",
    "\n",
    "    def es_primo(self, n):\n",
    "        if n <= 1:\n",
    "            return False\n",
    "        if n <= 3:\n",
    "            return True\n",
    "        if n % 2 == 0 or n % 3 == 0:\n",
    "            return False\n",
    "        i = 5\n",
    "        while i * i <= n:\n",
    "            if n % i == 0 or n % (i + 2) == 0:\n",
    "                return False\n",
    "            i += 6\n",
    "        return True\n",
    "\n",
    "    def valor_modal(self):\n",
    "        frecuencias = {}\n",
    "        for num in self.lista:\n",
    "            if num in frecuencias:\n",
    "                frecuencias[num] += 1\n",
    "            else:\n",
    "                frecuencias[num] = 1\n",
    "        moda = max(frecuencias, key=frecuencias.get)\n",
    "        return moda\n",
    "\n",
    "    def convertir_grados_celsius_a_fahrenheit(self, grados_celsius):\n",
    "        return (grados_celsius * 9/5) + 32\n",
    "\n",
    "    def factorial(self, n):\n",
    "        if n == 0:\n",
    "            return 1\n",
    "        else:\n",
    "            return n * self.factorial(n-1)"
   ]
  },
  {
   "attachments": {},
   "cell_type": "markdown",
   "metadata": {},
   "source": [
    "8) Crear un archivo .py aparte y ubicar allí la clase generada en el punto anterior. Luego realizar la importación del módulo y probar alguna de sus funciones"
   ]
  },
  {
   "cell_type": "code",
   "execution_count": 56,
   "metadata": {},
   "outputs": [],
   "source": [
    "from modulo7functions import *"
   ]
  },
  {
   "cell_type": "code",
   "execution_count": 57,
   "metadata": {},
   "outputs": [
    {
     "name": "stdout",
     "output_type": "stream",
     "text": [
      "True\n"
     ]
    }
   ],
   "source": [
    "lista_numeros = [1, 2, 2, 3, 3, 3, 4, 5]\n",
    "modulo7 = Modulo7Functions(lista_numeros)\n",
    "\n",
    "print(modulo7.es_primo(7))"
   ]
  }
 ],
 "metadata": {
  "interpreter": {
   "hash": "c85384e4cb51c8b72350f3a8712cc8351fdc3955e32a27f9b60c6242ab125f01"
  },
  "kernelspec": {
   "display_name": "Python 3 (ipykernel)",
   "language": "python",
   "name": "python3"
  },
  "language_info": {
   "codemirror_mode": {
    "name": "ipython",
    "version": 3
   },
   "file_extension": ".py",
   "mimetype": "text/x-python",
   "name": "python",
   "nbconvert_exporter": "python",
   "pygments_lexer": "ipython3",
   "version": "3.12.2"
  }
 },
 "nbformat": 4,
 "nbformat_minor": 4
}
