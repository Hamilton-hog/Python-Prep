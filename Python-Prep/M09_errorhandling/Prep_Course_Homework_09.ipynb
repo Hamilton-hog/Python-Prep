{
 "cells": [
  {
   "attachments": {},
   "cell_type": "markdown",
   "metadata": {},
   "source": [
    "## Manejo de errores"
   ]
  },
  {
   "attachments": {},
   "cell_type": "markdown",
   "metadata": {},
   "source": [
    "1) Con la clase creada en el módulo 7, tener en cuenta diferentes casos en que el código pudiera arrojar error. Por ejemplo, en la creación del objeto recibimos una lista de números enteros pero ¿qué pasa si se envía otro tipo de dato?"
   ]
  },
  {
   "cell_type": "code",
   "execution_count": 1,
   "metadata": {},
   "outputs": [
    {
     "name": "stdout",
     "output_type": "stream",
     "text": [
      "Error: Se esperaba una lista de números enteros.\n"
     ]
    }
   ],
   "source": [
    "class Modulo7Functions:\n",
    "    def __init__(self, lista):\n",
    "        if not isinstance(lista, list):\n",
    "            raise TypeError(\"Se esperaba una lista de números enteros.\")\n",
    "        if not all(isinstance(num, int) for num in lista):\n",
    "            raise ValueError(\"La lista debe contener solo números enteros.\")\n",
    "        self.lista = lista\n",
    "\n",
    "# Ejemplo de uso incorrecto\n",
    "try:\n",
    "    modulo7 = Modulo7Functions(\"no soy una lista\")\n",
    "except TypeError as e:\n",
    "    print(\"Error:\", e)\n"
   ]
  },
  {
   "attachments": {},
   "cell_type": "markdown",
   "metadata": {},
   "source": [
    "2) En la función que hace la conversión de grados, validar que los parámetros enviados sean los esperados, de no serlo, informar cuáles son los valores esperados."
   ]
  },
  {
   "cell_type": "code",
   "execution_count": 2,
   "metadata": {},
   "outputs": [
    {
     "name": "stdout",
     "output_type": "stream",
     "text": [
      "Error: Se esperaba un valor numérico para los grados Celsius.\n"
     ]
    }
   ],
   "source": [
    "class Modulo7Functions:\n",
    "    def convertir_grados_celsius_a_fahrenheit(self, grados_celsius):\n",
    "        if not isinstance(grados_celsius, (int, float)):\n",
    "            raise TypeError(\"Se esperaba un valor numérico para los grados Celsius.\")\n",
    "        return (grados_celsius * 9/5) + 32\n",
    "\n",
    "# Ejemplo de uso incorrecto\n",
    "try:\n",
    "    modulo7 = Modulo7Functions()\n",
    "    resultado = modulo7.convertir_grados_celsius_a_fahrenheit(\"no soy un número\")\n",
    "except TypeError as e:\n",
    "    print(\"Error:\", e)\n"
   ]
  },
  {
   "attachments": {},
   "cell_type": "markdown",
   "metadata": {},
   "source": [
    "3) Importar el modulo \"unittest\" y crear los siguientes casos de pruebas sobre la clase utilizada en el punto 2<br>\n",
    "Creacion del objeto incorrecta<br>\n",
    "Creacion correcta del objeto<br>\n",
    "Metodo valor_modal()<br>\n",
    "\n",
    "Se puede usar \"raise ValueError()\" en la creación de la clase para verificar el error. Investigar sobre esta funcionalidad."
   ]
  },
  {
   "cell_type": "code",
   "execution_count": 21,
   "metadata": {},
   "outputs": [],
   "source": [
    "import unittest\n",
    "from modulo7functions import Modulo7Functions\n",
    "\n",
    "class TestModulo7Functions(unittest.TestCase):\n",
    "    def test_creacion_objeto_incorrecta(self):\n",
    "        with self.assertRaises(TypeError):\n",
    "            modulo7 = Modulo7Functions(\"no soy una lista\")\n",
    "\n",
    "    def test_creacion_objeto_correcta(self):\n",
    "        lista_numeros = [1, 2, 3, 4, 5]\n",
    "        modulo7 = Modulo7Functions(lista_numeros)\n",
    "        self.assertIsInstance(modulo7, Modulo7Functions)\n",
    "\n",
    "    def test_valor_modal(self):\n",
    "        lista_numeros = [1, 2, 2, 3, 3, 3, 4, 5]\n",
    "        modulo7 = Modulo7Functions(lista_numeros)\n",
    "        self.assertEqual(modulo7.valor_modal(), 3)\n"
   ]
  },
  {
   "attachments": {},
   "cell_type": "markdown",
   "metadata": {},
   "source": [
    "4) Probar una creación incorrecta y visualizar la salida del \"raise\""
   ]
  },
  {
   "cell_type": "code",
   "execution_count": 23,
   "metadata": {},
   "outputs": [
    {
     "name": "stdout",
     "output_type": "stream",
     "text": [
      "Error: Se esperaba una lista de números enteros.\n"
     ]
    }
   ],
   "source": [
    "class Modulo7Functions:\n",
    "    def __init__(self, lista):\n",
    "        if not isinstance(lista, list):\n",
    "            raise TypeError(\"Se esperaba una lista de números enteros.\")\n",
    "        if not all(isinstance(num, int) for num in lista):\n",
    "            raise ValueError(\"La lista debe contener solo números enteros.\")\n",
    "        self.lista = lista\n",
    "\n",
    "# Ejemplo de uso incorrecto\n",
    "try:\n",
    "    modulo7 = Modulo7Functions(\"no soy una lista\")\n",
    "except TypeError as e:\n",
    "    print(\"Error:\", e)\n"
   ]
  },
  {
   "attachments": {},
   "cell_type": "markdown",
   "metadata": {},
   "source": [
    "6) Agregar casos de pruebas para el método verifica_primos() realizando el cambio en la clase, para que devuelva una lista de True o False en función de que el elemento en la posisicón sea o no primo"
   ]
  },
  {
   "cell_type": "code",
   "execution_count": 25,
   "metadata": {},
   "outputs": [
    {
     "name": "stdout",
     "output_type": "stream",
     "text": [
      "[True, False, False, False, True]\n"
     ]
    }
   ],
   "source": [
    "class Modulo7Functions:\n",
    "    def __init__(self, lista):\n",
    "        self.lista = lista\n",
    "\n",
    "    def es_primo(self, n):\n",
    "        if n <= 1:\n",
    "            return False\n",
    "        if n <= 3:\n",
    "            return True\n",
    "        if n % 2 == 0 or n % 3 == 0:\n",
    "            return False\n",
    "        i = 5\n",
    "        while i * i <= n:\n",
    "            if n % i == 0 or n % (i + 2) == 0:\n",
    "                return False\n",
    "            i += 6\n",
    "        return True\n",
    "\n",
    "    def verifica_primos(self):\n",
    "        return [self.es_primo(num) for num in self.lista]\n",
    "\n",
    "# Ejemplo de prueba\n",
    "lista_numeros = [7, 8, 9, 10, 11]\n",
    "modulo7 = Modulo7Functions(lista_numeros)\n",
    "print(modulo7.verifica_primos())  # Salida esperada: [True, False, False, False, True]\n"
   ]
  },
  {
   "attachments": {},
   "cell_type": "markdown",
   "metadata": {},
   "source": [
    "7) Agregar casos de pruebas para el método conversion_grados()"
   ]
  },
  {
   "cell_type": "code",
   "execution_count": 31,
   "metadata": {},
   "outputs": [
    {
     "name": "stderr",
     "output_type": "stream",
     "text": [
      "test_conversion_grados (__main__.TestModulo7Functions.test_conversion_grados) ... ok\n",
      "\n",
      "----------------------------------------------------------------------\n",
      "Ran 1 test in 0.002s\n",
      "\n",
      "OK\n"
     ]
    },
    {
     "data": {
      "text/plain": [
       "<unittest.runner.TextTestResult run=1 errors=0 failures=0>"
      ]
     },
     "execution_count": 31,
     "metadata": {},
     "output_type": "execute_result"
    }
   ],
   "source": [
    "import unittest\n",
    "from modulo7functions import Modulo7Functions\n",
    "\n",
    "class TestModulo7Functions(unittest.TestCase):\n",
    "    def test_conversion_grados(self):\n",
    "        modulo7 = Modulo7Functions([])\n",
    "        self.assertAlmostEqual(modulo7.convertir_grados_celsius_a_fahrenheit(0), 32.0)\n",
    "        self.assertAlmostEqual(modulo7.convertir_grados_celsius_a_fahrenheit(100), 212.0)\n",
    "        self.assertAlmostEqual(modulo7.convertir_grados_celsius_a_fahrenheit(-40), -40.0)\n",
    "\n",
    "# Ejecutar las pruebas y mostrar los resultados\n",
    "test_suite = unittest.TestLoader().loadTestsFromTestCase(TestModulo7Functions)\n",
    "unittest.TextTestRunner(verbosity=2).run(test_suite)\n"
   ]
  },
  {
   "attachments": {},
   "cell_type": "markdown",
   "metadata": {},
   "source": [
    "8) Agregar casos de pruebas para el método factorial()"
   ]
  },
  {
   "cell_type": "code",
   "execution_count": 32,
   "metadata": {},
   "outputs": [
    {
     "name": "stderr",
     "output_type": "stream",
     "text": [
      "test_factorial (__main__.TestModulo7Functions.test_factorial) ... ok\n",
      "\n",
      "----------------------------------------------------------------------\n",
      "Ran 1 test in 0.004s\n",
      "\n",
      "OK\n"
     ]
    },
    {
     "data": {
      "text/plain": [
       "<unittest.runner.TextTestResult run=1 errors=0 failures=0>"
      ]
     },
     "execution_count": 32,
     "metadata": {},
     "output_type": "execute_result"
    }
   ],
   "source": [
    "import unittest\n",
    "from modulo7functions import Modulo7Functions\n",
    "\n",
    "class TestModulo7Functions(unittest.TestCase):\n",
    "    def test_factorial(self):\n",
    "        modulo7 = Modulo7Functions([])\n",
    "        self.assertEqual(modulo7.factorial(0), 1)\n",
    "        self.assertEqual(modulo7.factorial(1), 1)\n",
    "        self.assertEqual(modulo7.factorial(5), 120)\n",
    "        self.assertEqual(modulo7.factorial(10), 3628800)\n",
    "\n",
    "# Ejecutar las pruebas y mostrar los resultados\n",
    "test_suite = unittest.TestLoader().loadTestsFromTestCase(TestModulo7Functions)\n",
    "unittest.TextTestRunner(verbosity=2).run(test_suite)\n"
   ]
  }
 ],
 "metadata": {
  "interpreter": {
   "hash": "c85384e4cb51c8b72350f3a8712cc8351fdc3955e32a27f9b60c6242ab125f01"
  },
  "kernelspec": {
   "display_name": "Python 3 (ipykernel)",
   "language": "python",
   "name": "python3"
  },
  "language_info": {
   "codemirror_mode": {
    "name": "ipython",
    "version": 3
   },
   "file_extension": ".py",
   "mimetype": "text/x-python",
   "name": "python",
   "nbconvert_exporter": "python",
   "pygments_lexer": "ipython3",
   "version": "3.9.7"
  }
 },
 "nbformat": 4,
 "nbformat_minor": 4
}
