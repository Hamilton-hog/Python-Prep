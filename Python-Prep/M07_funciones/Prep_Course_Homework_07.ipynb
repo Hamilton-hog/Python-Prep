{
 "cells": [
  {
   "attachments": {},
   "cell_type": "markdown",
   "metadata": {},
   "source": [
    "## Funciones"
   ]
  },
  {
   "cell_type": "code",
   "execution_count": 1,
   "metadata": {},
   "outputs": [],
   "source": [
    "import math"
   ]
  },
  {
   "attachments": {},
   "cell_type": "markdown",
   "metadata": {},
   "source": [
    "1) Crear una función que reciba un número como parámetro y devuelva True si es primo y False si no lo es"
   ]
  },
  {
   "cell_type": "code",
   "execution_count": 2,
   "metadata": {},
   "outputs": [],
   "source": [
    "def es_primo(numero):\n",
    "    if numero <= 1:\n",
    "        return False\n",
    "    elif numero <= 3:\n",
    "        return True\n",
    "    elif numero % 2 == 0 or numero % 3 == 0:\n",
    "        return False\n",
    "    i = 5\n",
    "    while i * i <= numero:\n",
    "        if numero % i == 0 or numero % (i + 2) == 0:\n",
    "            return False\n",
    "        i += 6\n",
    "    return True"
   ]
  },
  {
   "attachments": {},
   "cell_type": "markdown",
   "metadata": {},
   "source": [
    "2) Utilizando la función del punto 1, realizar otra función que reciba de parámetro una lista de números y devuelva sólo aquellos que son primos en otra lista"
   ]
  },
  {
   "cell_type": "code",
   "execution_count": 3,
   "metadata": {},
   "outputs": [],
   "source": [
    "def numeros_primos(lista):\n",
    "    return [num for num in lista if es_primo(num)]"
   ]
  },
  {
   "attachments": {},
   "cell_type": "markdown",
   "metadata": {},
   "source": [
    "3) Crear una función que al recibir una lista de números, devuelva el que más se repite y cuántas veces lo hace. Si hay más de un \"más repetido\", que devuelva cualquiera"
   ]
  },
  {
   "cell_type": "code",
   "execution_count": 4,
   "metadata": {},
   "outputs": [],
   "source": [
    "def mas_repetido(lista):\n",
    "    max_repeticiones = 0\n",
    "    num_mas_repetido = None\n",
    "    for num in lista:\n",
    "        repeticiones = lista.count(num)\n",
    "        if repeticiones > max_repeticiones:\n",
    "            max_repeticiones = repeticiones\n",
    "            num_mas_repetido = num\n",
    "    return num_mas_repetido, max_repeticiones"
   ]
  },
  {
   "attachments": {},
   "cell_type": "markdown",
   "metadata": {},
   "source": [
    "4) Crear una función que convierta entre grados Celsius, Farenheit y Kelvin<br>\n",
    "Fórmula 1\t: (°C × 9/5) + 32 = °F<br>\n",
    "Fórmula 2\t: °C + 273.15 = °K<br>\n",
    "Debe recibir 3 parámetros: el valor, la medida de orígen y la medida de destino\n"
   ]
  },
  {
   "cell_type": "code",
   "execution_count": 5,
   "metadata": {},
   "outputs": [],
   "source": [
    "def convertir_temperatura(valor, medida_origen, medida_destino):\n",
    "    if medida_origen == 'C':\n",
    "        if medida_destino == 'F':\n",
    "            return (valor * 9/5) + 32\n",
    "        elif medida_destino == 'K':\n",
    "            return valor + 273.15\n",
    "    elif medida_origen == 'F':\n",
    "        if medida_destino == 'C':\n",
    "            return (valor - 32) * 5/9\n",
    "        elif medida_destino == 'K':\n",
    "            return (valor - 32) * 5/9 + 273.15\n",
    "    elif medida_origen == 'K':\n",
    "        if medida_destino == 'C':\n",
    "            return valor - 273.15\n",
    "        elif medida_destino == 'F':\n",
    "            return (valor - 273.15) * 9/5 + 32"
   ]
  },
  {
   "attachments": {},
   "cell_type": "markdown",
   "metadata": {},
   "source": [
    "5) Iterando una lista con los tres valores posibles de temperatura que recibe la función del punto 5, hacer un print para cada combinación de los mismos:"
   ]
  },
  {
   "cell_type": "code",
   "execution_count": 6,
   "metadata": {},
   "outputs": [],
   "source": [
    "def imprimir_combinaciones_temperatura(temperaturas):\n",
    "    medidas = ['C', 'F', 'K']\n",
    "    for medida_origen in medidas:\n",
    "        for medida_destino in medidas:\n",
    "            if medida_origen != medida_destino:\n",
    "                for temp in temperaturas:\n",
    "                    resultado = convertir_temperatura(temp, medida_origen, medida_destino)\n",
    "                    print(f\"{temp}{medida_origen} es igual a {resultado:.2f}{medida_destino}\")"
   ]
  },
  {
   "attachments": {},
   "cell_type": "markdown",
   "metadata": {},
   "source": [
    "6) Armar una función que devuelva el factorial de un número. Tener en cuenta que el usuario puede equivocarse y enviar de parámetro un número no entero o negativo"
   ]
  },
  {
   "cell_type": "code",
   "execution_count": 7,
   "metadata": {},
   "outputs": [],
   "source": [
    "def factorial(numero):\n",
    "    if not isinstance(numero, int) or numero < 0:\n",
    "        return None\n",
    "    return math.factorial(numero)"
   ]
  },
  {
   "cell_type": "markdown",
   "metadata": {},
   "source": [
    "Ejemplos de uso"
   ]
  },
  {
   "cell_type": "code",
   "execution_count": 9,
   "metadata": {},
   "outputs": [
    {
     "name": "stdout",
     "output_type": "stream",
     "text": [
      "True\n"
     ]
    }
   ],
   "source": [
    "print(es_primo(17))  # True"
   ]
  },
  {
   "cell_type": "code",
   "execution_count": 10,
   "metadata": {},
   "outputs": [
    {
     "name": "stdout",
     "output_type": "stream",
     "text": [
      "[2, 3, 5, 7]\n"
     ]
    }
   ],
   "source": [
    "print(numeros_primos([1, 2, 3, 4, 5, 6, 7, 8, 9, 10]))  # [2, 3, 5, 7]"
   ]
  },
  {
   "cell_type": "code",
   "execution_count": 11,
   "metadata": {},
   "outputs": [
    {
     "name": "stdout",
     "output_type": "stream",
     "text": [
      "(4, 4)\n"
     ]
    }
   ],
   "source": [
    "print(mas_repetido([1, 2, 3, 4, 2, 2, 3, 4, 4, 4]))  # (4, 4)"
   ]
  },
  {
   "cell_type": "code",
   "execution_count": 12,
   "metadata": {},
   "outputs": [
    {
     "name": "stdout",
     "output_type": "stream",
     "text": [
      "212.0\n"
     ]
    }
   ],
   "source": [
    "print(convertir_temperatura(100, 'C', 'F'))  # 212.0"
   ]
  },
  {
   "cell_type": "code",
   "execution_count": 13,
   "metadata": {},
   "outputs": [
    {
     "name": "stdout",
     "output_type": "stream",
     "text": [
      "0C es igual a 32.00F\n",
      "25C es igual a 77.00F\n",
      "100C es igual a 212.00F\n",
      "0C es igual a 273.15K\n",
      "25C es igual a 298.15K\n",
      "100C es igual a 373.15K\n",
      "0F es igual a -17.78C\n",
      "25F es igual a -3.89C\n",
      "100F es igual a 37.78C\n",
      "0F es igual a 255.37K\n",
      "25F es igual a 269.26K\n",
      "100F es igual a 310.93K\n",
      "0K es igual a -273.15C\n",
      "25K es igual a -248.15C\n",
      "100K es igual a -173.15C\n",
      "0K es igual a -459.67F\n",
      "25K es igual a -414.67F\n",
      "100K es igual a -279.67F\n"
     ]
    }
   ],
   "source": [
    "imprimir_combinaciones_temperatura([0, 25, 100])"
   ]
  },
  {
   "cell_type": "code",
   "execution_count": 14,
   "metadata": {},
   "outputs": [
    {
     "name": "stdout",
     "output_type": "stream",
     "text": [
      "120\n"
     ]
    }
   ],
   "source": [
    "print(factorial(5))  # 120"
   ]
  }
 ],
 "metadata": {
  "interpreter": {
   "hash": "c85384e4cb51c8b72350f3a8712cc8351fdc3955e32a27f9b60c6242ab125f01"
  },
  "kernelspec": {
   "display_name": "Python 3 (ipykernel)",
   "language": "python",
   "name": "python3"
  },
  "language_info": {
   "codemirror_mode": {
    "name": "ipython",
    "version": 3
   },
   "file_extension": ".py",
   "mimetype": "text/x-python",
   "name": "python",
   "nbconvert_exporter": "python",
   "pygments_lexer": "ipython3",
   "version": "3.12.2"
  }
 },
 "nbformat": 4,
 "nbformat_minor": 4
}
