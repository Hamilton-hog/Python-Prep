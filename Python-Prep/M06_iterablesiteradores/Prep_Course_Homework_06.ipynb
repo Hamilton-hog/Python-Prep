{
 "cells": [
  {
   "attachments": {},
   "cell_type": "markdown",
   "metadata": {},
   "source": [
    "## Iteradores e iterables"
   ]
  },
  {
   "attachments": {},
   "cell_type": "markdown",
   "metadata": {},
   "source": [
    "1) A partir de una lista vacía, utilizar un ciclo while para cargar allí números negativos del -15 al -1"
   ]
  },
  {
   "cell_type": "code",
   "execution_count": 1,
   "metadata": {},
   "outputs": [
    {
     "name": "stdout",
     "output_type": "stream",
     "text": [
      "1) Lista de números negativos del -15 al -1: [-15, -14, -13, -12, -11, -10, -9, -8, -7, -6, -5, -4, -3, -2, -1]\n"
     ]
    }
   ],
   "source": [
    "lista_negativos = []\n",
    "num = -15\n",
    "while num < 0:\n",
    "    lista_negativos.append(num)\n",
    "    num += 1\n",
    "print(\"Lista de números negativos del -15 al -1:\", lista_negativos)"
   ]
  },
  {
   "attachments": {},
   "cell_type": "markdown",
   "metadata": {},
   "source": [
    "2) ¿Con un ciclo while sería posible recorrer la lista para imprimir sólo los números pares?"
   ]
  },
  {
   "cell_type": "code",
   "execution_count": 2,
   "metadata": {},
   "outputs": [
    {
     "name": "stdout",
     "output_type": "stream",
     "text": [
      "Número par: -14\n",
      "Número par: -12\n",
      "Número par: -10\n",
      "Número par: -8\n",
      "Número par: -6\n",
      "Número par: -4\n",
      "Número par: -2\n"
     ]
    }
   ],
   "source": [
    "i = 0\n",
    "while i < len(lista_negativos):\n",
    "    if lista_negativos[i] % 2 == 0:\n",
    "        print(\"Número par:\", lista_negativos[i])\n",
    "    i += 1"
   ]
  },
  {
   "attachments": {},
   "cell_type": "markdown",
   "metadata": {},
   "source": [
    "3) Resolver el punto anterior sin utilizar un ciclo while"
   ]
  },
  {
   "cell_type": "code",
   "execution_count": 5,
   "metadata": {},
   "outputs": [
    {
     "name": "stdout",
     "output_type": "stream",
     "text": [
      "Números pares de la lista: [-14, -12, -10, -8, -6, -4, -2]\n"
     ]
    }
   ],
   "source": [
    "pares = [num for num in lista_negativos if num % 2 == 0]\n",
    "print(\"Números pares de la lista:\", pares)"
   ]
  },
  {
   "attachments": {},
   "cell_type": "markdown",
   "metadata": {},
   "source": [
    "4) Utilizar el iterable para recorrer sólo los primeros 3 elementos"
   ]
  },
  {
   "cell_type": "code",
   "execution_count": 6,
   "metadata": {},
   "outputs": [
    {
     "name": "stdout",
     "output_type": "stream",
     "text": [
      "Primeros 3 elementos de la lista: [-15, -14, -13]\n"
     ]
    }
   ],
   "source": [
    "primeros_3 = lista_negativos[:3]\n",
    "print(\"Primeros 3 elementos de la lista:\", primeros_3)"
   ]
  },
  {
   "attachments": {},
   "cell_type": "markdown",
   "metadata": {},
   "source": [
    "5) Utilizar la función **enumerate** para obtener dentro del iterable, tambien el índice al que corresponde el elemento"
   ]
  },
  {
   "cell_type": "code",
   "execution_count": 8,
   "metadata": {},
   "outputs": [
    {
     "name": "stdout",
     "output_type": "stream",
     "text": [
      "Índice: 0 - Elemento: -15\n",
      "Índice: 1 - Elemento: -14\n",
      "Índice: 2 - Elemento: -13\n",
      "Índice: 3 - Elemento: -12\n",
      "Índice: 4 - Elemento: -11\n",
      "Índice: 5 - Elemento: -10\n",
      "Índice: 6 - Elemento: -9\n",
      "Índice: 7 - Elemento: -8\n",
      "Índice: 8 - Elemento: -7\n",
      "Índice: 9 - Elemento: -6\n",
      "Índice: 10 - Elemento: -5\n",
      "Índice: 11 - Elemento: -4\n",
      "Índice: 12 - Elemento: -3\n",
      "Índice: 13 - Elemento: -2\n",
      "Índice: 14 - Elemento: -1\n"
     ]
    }
   ],
   "source": [
    "for indice, elemento in enumerate(lista_negativos):\n",
    "    print(\"Índice:\", indice, \"- Elemento:\", elemento)"
   ]
  },
  {
   "attachments": {},
   "cell_type": "markdown",
   "metadata": {},
   "source": [
    "6) Dada la siguiente lista de números enteros entre 1 y 20, crear un ciclo donde se completen los valores faltantes: lista = [1,2,5,7,8,10,13,14,15,17,20]"
   ]
  },
  {
   "cell_type": "code",
   "execution_count": 10,
   "metadata": {},
   "outputs": [
    {
     "name": "stdout",
     "output_type": "stream",
     "text": [
      "Números faltantes en la lista: [3, 4, 6, 9, 11, 12, 16, 18, 19]\n"
     ]
    }
   ],
   "source": [
    "lista = [1,2,5,7,8,10,13,14,15,17,20]\n",
    "faltantes = [num for num in range(1, 21) if num not in lista]\n",
    "print(\"Números faltantes en la lista:\", faltantes)"
   ]
  },
  {
   "attachments": {},
   "cell_type": "markdown",
   "metadata": {},
   "source": [
    "7) La sucesión de Fibonacci es un listado de números que sigue la fórmula: <br>\n",
    "n<sub>0</sub> = 0<br>\n",
    "n<sub>1</sub> = 1<br>\n",
    "n<sub>i</sub> = n<sub>i-1</sub> + n<sub>i-2</sub><br>\n",
    "Crear una lista con los primeros treinta números de la sucesión.<br>"
   ]
  },
  {
   "cell_type": "code",
   "execution_count": 11,
   "metadata": {},
   "outputs": [
    {
     "name": "stdout",
     "output_type": "stream",
     "text": [
      "Primeros treinta números de la sucesión de Fibonacci: [0, 1, 1, 2, 3, 5, 8, 13, 21, 34, 55, 89, 144, 233, 377, 610, 987, 1597, 2584, 4181, 6765, 10946, 17711, 28657, 46368, 75025, 121393, 196418, 317811, 514229]\n"
     ]
    }
   ],
   "source": [
    "fibonacci = [0, 1]\n",
    "while len(fibonacci) < 30:\n",
    "    fibonacci.append(fibonacci[-1] + fibonacci[-2])\n",
    "print(\"Primeros treinta números de la sucesión de Fibonacci:\", fibonacci)"
   ]
  },
  {
   "attachments": {},
   "cell_type": "markdown",
   "metadata": {},
   "source": [
    "8) Realizar la suma de todos elementos de la lista del punto anterior"
   ]
  },
  {
   "cell_type": "code",
   "execution_count": 12,
   "metadata": {},
   "outputs": [
    {
     "name": "stdout",
     "output_type": "stream",
     "text": [
      "8) Suma de todos los elementos de la lista de Fibonacci: 1346268\n"
     ]
    }
   ],
   "source": [
    "suma_fibonacci = sum(fibonacci)\n",
    "print(\"Suma de todos los elementos de la lista de Fibonacci:\", suma_fibonacci)"
   ]
  },
  {
   "attachments": {},
   "cell_type": "markdown",
   "metadata": {},
   "source": [
    "9) La proporción aurea se expresa con una proporción matemática que nace el número irracional Phi= 1,618… que los griegos llamaron número áureo. El cuál se puede aproximar con la sucesión de Fibonacci. Con la lista del ejercicio anterior, imprimir el cociente de los últimos 5 pares de dos números contiguos:<br>\n",
    "Donde i es la cantidad total de elementos<br>\n",
    "n<sub>i-1</sub> / n<sub>i</sub><br>\n",
    "n<sub>i-2</sub> / n<sub>i-1</sub><br>\n",
    "n<sub>i-3</sub> / n<sub>i-2</sub><br>\n",
    "n<sub>i-4</sub> / n<sub>i-3</sub><br>\n",
    "n<sub>i-5</sub> / n<sub>i-4</sub><br>\n",
    " "
   ]
  },
  {
   "cell_type": "code",
   "execution_count": 14,
   "metadata": {},
   "outputs": [
    {
     "name": "stdout",
     "output_type": "stream",
     "text": [
      "Cociente 10: 34 / 55 = 0.6181818181818182\n",
      "Cociente 11: 55 / 89 = 0.6179775280898876\n",
      "Cociente 12: 89 / 144 = 0.6180555555555556\n",
      "Cociente 13: 144 / 233 = 0.6180257510729614\n",
      "Cociente 14: 233 / 377 = 0.6180371352785146\n"
     ]
    }
   ],
   "source": [
    "cantidad_elementos = 15\n",
    "indice_inicial = cantidad_elementos - 5\n",
    "\n",
    "while indice_inicial < cantidad_elementos:\n",
    "    num_anterior = fibonacci[indice_inicial - 1]\n",
    "    num_actual = fibonacci[indice_inicial]\n",
    "    cociente = num_anterior / num_actual\n",
    "    print(f\"Cociente {indice_inicial}: {num_anterior} / {num_actual} = {cociente}\")\n",
    "    indice_inicial += 1\n"
   ]
  },
  {
   "attachments": {},
   "cell_type": "markdown",
   "metadata": {},
   "source": [
    "10) A partir de la variable cadena ya dada, mostrar en qué posiciones aparece la letra \"n\"<br>\n",
    "cadena = 'Hola Mundo. Esto es una practica del lenguaje de programación Python'"
   ]
  },
  {
   "cell_type": "code",
   "execution_count": 15,
   "metadata": {},
   "outputs": [
    {
     "name": "stdout",
     "output_type": "stream",
     "text": [
      "10) Posiciones donde aparece la letra 'n': [7, 21, 39, 60, 67]\n"
     ]
    }
   ],
   "source": [
    "cadena = 'Hola Mundo. Esto es una practica del lenguaje de programación Python'\n",
    "posiciones_n = [pos for pos, letra in enumerate(cadena) if letra == 'n']\n",
    "print(\"Posiciones donde aparece la letra 'n':\", posiciones_n)"
   ]
  },
  {
   "attachments": {},
   "cell_type": "markdown",
   "metadata": {},
   "source": [
    "11) Crear un diccionario e imprimir sus claves utilizando un iterador"
   ]
  },
  {
   "cell_type": "code",
   "execution_count": 16,
   "metadata": {},
   "outputs": [
    {
     "name": "stdout",
     "output_type": "stream",
     "text": [
      "11) Claves del diccionario: clave1 clave2 clave3 \n"
     ]
    }
   ],
   "source": [
    "diccionario = {\"clave1\": \"valor1\", \"clave2\": \"valor2\", \"clave3\": \"valor3\"}\n",
    "print(\"Claves del diccionario:\", end=\" \")\n",
    "for clave in diccionario:\n",
    "    print(clave, end=\" \")\n",
    "print()"
   ]
  },
  {
   "attachments": {},
   "cell_type": "markdown",
   "metadata": {},
   "source": [
    "12) Convertir en una lista la variable \"cadena\" del punto 10 y luego recorrerla con un iterador "
   ]
  },
  {
   "cell_type": "code",
   "execution_count": 17,
   "metadata": {},
   "outputs": [
    {
     "name": "stdout",
     "output_type": "stream",
     "text": [
      "12) Lista creada a partir de la variable 'cadena': ['H', 'o', 'l', 'a', ' ', 'M', 'u', 'n', 'd', 'o', '.', ' ', 'E', 's', 't', 'o', ' ', 'e', 's', ' ', 'u', 'n', 'a', ' ', 'p', 'r', 'a', 'c', 't', 'i', 'c', 'a', ' ', 'd', 'e', 'l', ' ', 'l', 'e', 'n', 'g', 'u', 'a', 'j', 'e', ' ', 'd', 'e', ' ', 'p', 'r', 'o', 'g', 'r', 'a', 'm', 'a', 'c', 'i', 'ó', 'n', ' ', 'P', 'y', 't', 'h', 'o', 'n']\n"
     ]
    }
   ],
   "source": [
    "lista_cadena = list(cadena)\n",
    "print(\"Lista creada a partir de la variable 'cadena':\", lista_cadena)"
   ]
  },
  {
   "attachments": {},
   "cell_type": "markdown",
   "metadata": {},
   "source": [
    "13) Crear dos listas y unirlas en una tupla utilizando la función zip"
   ]
  },
  {
   "cell_type": "code",
   "execution_count": 18,
   "metadata": {},
   "outputs": [
    {
     "name": "stdout",
     "output_type": "stream",
     "text": [
      "Tupla creada a partir de las listas: ((1, 'a'), (2, 'b'), (3, 'c'))\n"
     ]
    }
   ],
   "source": [
    "lista1 = [1, 2, 3]\n",
    "lista2 = ['a', 'b', 'c']\n",
    "tupla = tuple(zip(lista1, lista2))\n",
    "print(\"Tupla creada a partir de las listas:\", tupla)"
   ]
  },
  {
   "attachments": {},
   "cell_type": "markdown",
   "metadata": {},
   "source": [
    "14) A partir de la siguiente lista de números, crear una nueva sólo si el número es divisible por 7<br>\n",
    "lis = [18,21,29,32,35,42,56,60,63,71,84,90,91,100]"
   ]
  },
  {
   "cell_type": "code",
   "execution_count": 19,
   "metadata": {},
   "outputs": [
    {
     "name": "stdout",
     "output_type": "stream",
     "text": [
      "Nueva lista con números divisibles por 7: [21, 35, 42, 56, 63, 84, 91]\n"
     ]
    }
   ],
   "source": [
    "lis = [18, 21, 29, 32, 35, 42, 56, 60, 63, 71, 84, 90, 91, 100]\n",
    "divisibles_por_7 = [num for num in lis if num % 7 == 0]\n",
    "print(\"Nueva lista con números divisibles por 7:\", divisibles_por_7)"
   ]
  },
  {
   "attachments": {},
   "cell_type": "markdown",
   "metadata": {},
   "source": [
    "15) A partir de la lista de a continuación, contar la cantidad total de elementos que contiene, teniendo en cuenta que un elemento de la lista podría ser otra lista:<br>\n",
    "lis = [[1,2,3,4],'rojo','verde',[True,False,False],['uno','dos','tres']]"
   ]
  },
  {
   "cell_type": "code",
   "execution_count": 20,
   "metadata": {},
   "outputs": [
    {
     "name": "stdout",
     "output_type": "stream",
     "text": [
      "Cantidad total de elementos en la lista: 12\n"
     ]
    }
   ],
   "source": [
    "lis = [[1, 2, 3, 4], 'rojo', 'verde', [True, False, False], ['uno', 'dos', 'tres']]\n",
    "total_elementos = sum([1 if isinstance(elem, list) else len(elem) for elem in lis])\n",
    "print(\"Cantidad total de elementos en la lista:\", total_elementos)"
   ]
  },
  {
   "attachments": {},
   "cell_type": "markdown",
   "metadata": {},
   "source": [
    "16) Tomar la lista del punto anterior y convertir cada elemento en una lista si no lo es"
   ]
  },
  {
   "cell_type": "code",
   "execution_count": 22,
   "metadata": {},
   "outputs": [
    {
     "name": "stdout",
     "output_type": "stream",
     "text": [
      "16) Lista con elementos convertidos a listas si no lo eran: [[1, 2, 3, 4], ['rojo'], ['verde'], [True, False, False], ['uno', 'dos', 'tres']]\n"
     ]
    }
   ],
   "source": [
    "lista_convertida = [elem if isinstance(elem, list) else [elem] for elem in lis]\n",
    "print(\"16) Lista con elementos convertidos a listas si no lo eran:\", lista_convertida)"
   ]
  }
 ],
 "metadata": {
  "interpreter": {
   "hash": "c85384e4cb51c8b72350f3a8712cc8351fdc3955e32a27f9b60c6242ab125f01"
  },
  "kernelspec": {
   "display_name": "Python 3 (ipykernel)",
   "language": "python",
   "name": "python3"
  },
  "language_info": {
   "codemirror_mode": {
    "name": "ipython",
    "version": 3
   },
   "file_extension": ".py",
   "mimetype": "text/x-python",
   "name": "python",
   "nbconvert_exporter": "python",
   "pygments_lexer": "ipython3",
   "version": "3.12.2"
  }
 },
 "nbformat": 4,
 "nbformat_minor": 4
}
