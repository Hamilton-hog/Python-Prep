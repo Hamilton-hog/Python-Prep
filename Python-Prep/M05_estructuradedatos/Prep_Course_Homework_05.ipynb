{
 "cells": [
  {
   "attachments": {},
   "cell_type": "markdown",
   "metadata": {},
   "source": [
    "## Estructuras de Datos"
   ]
  },
  {
   "attachments": {},
   "cell_type": "markdown",
   "metadata": {},
   "source": [
    "1) Crear una lista que contenga nombres de ciudades del mundo que contenga más de 5 elementos e imprimir por pantalla"
   ]
  },
  {
   "cell_type": "code",
   "execution_count": 6,
   "metadata": {},
   "outputs": [
    {
     "name": "stdout",
     "output_type": "stream",
     "text": [
      "Ciudades del mundo con más de 5 elementos: ['Nueva York', 'Londres', 'Tokio', 'París', 'Roma', 'Sídney']\n"
     ]
    }
   ],
   "source": [
    "ciudades = [\"Nueva York\", \"Londres\", \"Tokio\", \"París\", \"Roma\", \"Sídney\"]\n",
    "print(\"Ciudades del mundo con más de 5 elementos:\", ciudades)"
   ]
  },
  {
   "attachments": {},
   "cell_type": "markdown",
   "metadata": {},
   "source": [
    "2) Imprimir por pantalla el segundo elemento de la lista"
   ]
  },
  {
   "cell_type": "code",
   "execution_count": 7,
   "metadata": {},
   "outputs": [
    {
     "name": "stdout",
     "output_type": "stream",
     "text": [
      "Segundo elemento de la lista: Londres\n"
     ]
    }
   ],
   "source": [
    "print(\"Segundo elemento de la lista:\", ciudades[1])"
   ]
  },
  {
   "attachments": {},
   "cell_type": "markdown",
   "metadata": {},
   "source": [
    "3) Imprimir por pantalla del segundo al cuarto elemento"
   ]
  },
  {
   "cell_type": "code",
   "execution_count": 8,
   "metadata": {},
   "outputs": [
    {
     "name": "stdout",
     "output_type": "stream",
     "text": [
      "Del segundo al cuarto elemento: ['Londres', 'Tokio', 'París']\n"
     ]
    }
   ],
   "source": [
    "print(\"Del segundo al cuarto elemento:\", ciudades[1:4])"
   ]
  },
  {
   "attachments": {},
   "cell_type": "markdown",
   "metadata": {},
   "source": [
    "4) Visualizar el tipo de dato de la lista"
   ]
  },
  {
   "cell_type": "code",
   "execution_count": 9,
   "metadata": {},
   "outputs": [
    {
     "name": "stdout",
     "output_type": "stream",
     "text": [
      "Tipo de dato de la lista: <class 'list'>\n"
     ]
    }
   ],
   "source": [
    "print(\"Tipo de dato de la lista:\", type(ciudades))"
   ]
  },
  {
   "attachments": {},
   "cell_type": "markdown",
   "metadata": {},
   "source": [
    "5) Visualizar todos los elementos de la lista a partir del tercero de manera genérica, es decir, sin explicitar la posición del último elemento"
   ]
  },
  {
   "cell_type": "code",
   "execution_count": 10,
   "metadata": {},
   "outputs": [
    {
     "name": "stdout",
     "output_type": "stream",
     "text": [
      "Elementos de la lista a partir del tercero: ['Tokio', 'París', 'Roma', 'Sídney']\n"
     ]
    }
   ],
   "source": [
    "print(\"Elementos de la lista a partir del tercero:\", ciudades[2:])"
   ]
  },
  {
   "attachments": {},
   "cell_type": "markdown",
   "metadata": {},
   "source": [
    "6) Visualizar los primeros 4 elementos de la lista"
   ]
  },
  {
   "cell_type": "code",
   "execution_count": 11,
   "metadata": {},
   "outputs": [
    {
     "name": "stdout",
     "output_type": "stream",
     "text": [
      "Primeros 4 elementos de la lista: ['Nueva York', 'Londres', 'Tokio', 'París']\n"
     ]
    }
   ],
   "source": [
    "print(\"Primeros 4 elementos de la lista:\", ciudades[:4])"
   ]
  },
  {
   "attachments": {},
   "cell_type": "markdown",
   "metadata": {},
   "source": [
    "7) Agregar una ciudad más a la lista que ya exista y otra que no ¿Arroja algún tipo de error?"
   ]
  },
  {
   "cell_type": "code",
   "execution_count": 14,
   "metadata": {},
   "outputs": [
    {
     "name": "stdout",
     "output_type": "stream",
     "text": [
      "Lista de ciudades actualizada: ['Nueva York', 'Londres', 'Tokio', 'París', 'Roma', 'Sídney', 'Madrid', 'Buenos Aires', 'Madrid', 'Buenos Aires', 'Londres', 'Buenos Aires']\n"
     ]
    }
   ],
   "source": [
    "ciudades.append(\"Londres\")\n",
    "ciudades.append(\"Buenos Aires\")\n",
    "print(\"Lista de ciudades actualizada:\", ciudades)"
   ]
  },
  {
   "attachments": {},
   "cell_type": "markdown",
   "metadata": {},
   "source": [
    "8) Agregar otra ciudad, pero en la cuarta posición"
   ]
  },
  {
   "cell_type": "code",
   "execution_count": 13,
   "metadata": {},
   "outputs": [
    {
     "name": "stdout",
     "output_type": "stream",
     "text": [
      "7) Lista de ciudades actualizada: ['Nueva York', 'Londres', 'Tokio', 'París', 'Roma', 'Sídney', 'Madrid', 'Buenos Aires', 'Madrid', 'Buenos Aires']\n"
     ]
    }
   ],
   "source": [
    "ciudades.append(\"Madrid\")\n",
    "ciudades.append(\"Buenos Aires\")\n",
    "print(\"Lista de ciudades actualizada:\", ciudades)"
   ]
  },
  {
   "attachments": {},
   "cell_type": "markdown",
   "metadata": {},
   "source": [
    "9) Concatenar otra lista a la ya creada"
   ]
  },
  {
   "cell_type": "code",
   "execution_count": 15,
   "metadata": {},
   "outputs": [
    {
     "name": "stdout",
     "output_type": "stream",
     "text": [
      "9) Lista de ciudades concatenada con otra lista: ['Nueva York', 'Londres', 'Tokio', 'París', 'Roma', 'Sídney', 'Madrid', 'Buenos Aires', 'Madrid', 'Buenos Aires', 'Londres', 'Buenos Aires', 'Los Ángeles', 'Moscú']\n"
     ]
    }
   ],
   "source": [
    "ciudades_extra = [\"Los Ángeles\", \"Moscú\"]\n",
    "ciudades += ciudades_extra\n",
    "print(\"Lista de ciudades concatenada con otra lista:\", ciudades)"
   ]
  },
  {
   "attachments": {},
   "cell_type": "markdown",
   "metadata": {},
   "source": [
    "10) Encontrar el índice de la ciudad que en el punto 7 agregamos duplicada. ¿Se nota alguna particularidad?"
   ]
  },
  {
   "cell_type": "code",
   "execution_count": 16,
   "metadata": {},
   "outputs": [
    {
     "name": "stdout",
     "output_type": "stream",
     "text": [
      "10) Índice de la ciudad 'Madrid': 6\n"
     ]
    }
   ],
   "source": [
    "indice = ciudades.index(\"Madrid\")\n",
    "print(\"Índice de la ciudad 'Madrid':\", indice)"
   ]
  },
  {
   "attachments": {},
   "cell_type": "markdown",
   "metadata": {},
   "source": [
    "11) ¿Qué pasa si se busca un elemento que no existe?"
   ]
  },
  {
   "cell_type": "code",
   "execution_count": 17,
   "metadata": {},
   "outputs": [
    {
     "name": "stdout",
     "output_type": "stream",
     "text": [
      "11) La ciudad 'Ciudad Inexistente' no se encuentra en la lista\n"
     ]
    }
   ],
   "source": [
    "try:\n",
    "    indice_no_existente = ciudades.index(\"Ciudad Inexistente\")\n",
    "    print(\"El índice de la ciudad inexistente es:\", indice_no_existente)\n",
    "except ValueError:\n",
    "    print(\"La ciudad 'Ciudad Inexistente' no se encuentra en la lista\")"
   ]
  },
  {
   "attachments": {},
   "cell_type": "markdown",
   "metadata": {},
   "source": [
    "12) Eliminar un elemento de la lista"
   ]
  },
  {
   "cell_type": "code",
   "execution_count": 18,
   "metadata": {},
   "outputs": [
    {
     "name": "stdout",
     "output_type": "stream",
     "text": [
      "12) Lista de ciudades después de eliminar 'París': ['Nueva York', 'Londres', 'Tokio', 'Roma', 'Sídney', 'Madrid', 'Buenos Aires', 'Madrid', 'Buenos Aires', 'Londres', 'Buenos Aires', 'Los Ángeles', 'Moscú']\n"
     ]
    }
   ],
   "source": [
    "ciudades.remove(\"París\")\n",
    "print(\"Lista de ciudades después de eliminar 'París':\", ciudades)"
   ]
  },
  {
   "attachments": {},
   "cell_type": "markdown",
   "metadata": {},
   "source": [
    "13) ¿Qué pasa si el elemento a eliminar no existe?"
   ]
  },
  {
   "cell_type": "code",
   "execution_count": 19,
   "metadata": {},
   "outputs": [
    {
     "name": "stdout",
     "output_type": "stream",
     "text": [
      "13) La ciudad 'Ciudad Inexistente' no se encuentra en la lista\n"
     ]
    }
   ],
   "source": [
    "try:\n",
    "    ciudades.remove(\"Ciudad Inexistente\")\n",
    "    print(\"Lista de ciudades después de eliminar 'Ciudad Inexistente':\", ciudades)\n",
    "except ValueError:\n",
    "    print(\"La ciudad 'Ciudad Inexistente' no se encuentra en la lista\")"
   ]
  },
  {
   "attachments": {},
   "cell_type": "markdown",
   "metadata": {},
   "source": [
    "14) Extraer el úlimo elemento de la lista, guardarlo en una variable e imprimirlo"
   ]
  },
  {
   "cell_type": "code",
   "execution_count": 20,
   "metadata": {},
   "outputs": [
    {
     "name": "stdout",
     "output_type": "stream",
     "text": [
      "14) Último elemento de la lista extraído: Moscú\n"
     ]
    }
   ],
   "source": [
    "ultimo_elemento = ciudades.pop()\n",
    "print(\"Último elemento de la lista extraído:\", ultimo_elemento)"
   ]
  },
  {
   "attachments": {},
   "cell_type": "markdown",
   "metadata": {},
   "source": [
    "15) Mostrar la lista multiplicada por 4"
   ]
  },
  {
   "cell_type": "code",
   "execution_count": 21,
   "metadata": {},
   "outputs": [
    {
     "name": "stdout",
     "output_type": "stream",
     "text": [
      "15) Lista multiplicada por 4: ['Nueva York', 'Londres', 'Tokio', 'Roma', 'Sídney', 'Madrid', 'Buenos Aires', 'Madrid', 'Buenos Aires', 'Londres', 'Buenos Aires', 'Los Ángeles', 'Nueva York', 'Londres', 'Tokio', 'Roma', 'Sídney', 'Madrid', 'Buenos Aires', 'Madrid', 'Buenos Aires', 'Londres', 'Buenos Aires', 'Los Ángeles', 'Nueva York', 'Londres', 'Tokio', 'Roma', 'Sídney', 'Madrid', 'Buenos Aires', 'Madrid', 'Buenos Aires', 'Londres', 'Buenos Aires', 'Los Ángeles', 'Nueva York', 'Londres', 'Tokio', 'Roma', 'Sídney', 'Madrid', 'Buenos Aires', 'Madrid', 'Buenos Aires', 'Londres', 'Buenos Aires', 'Los Ángeles']\n"
     ]
    }
   ],
   "source": [
    "lista_multiplicada = ciudades * 4\n",
    "print(\"Lista multiplicada por 4:\", lista_multiplicada)"
   ]
  },
  {
   "attachments": {},
   "cell_type": "markdown",
   "metadata": {},
   "source": [
    "16) Crear una tupla que contenga los números enteros del 1 al 20"
   ]
  },
  {
   "cell_type": "code",
   "execution_count": 22,
   "metadata": {},
   "outputs": [],
   "source": [
    "numeros = tuple(range(1, 21))"
   ]
  },
  {
   "attachments": {},
   "cell_type": "markdown",
   "metadata": {},
   "source": [
    "17) Imprimir desde el índice 10 al 15 de la tupla"
   ]
  },
  {
   "cell_type": "code",
   "execution_count": 23,
   "metadata": {},
   "outputs": [
    {
     "name": "stdout",
     "output_type": "stream",
     "text": [
      "17) Elementos desde el índice 10 al 15 de la tupla: (11, 12, 13, 14, 15, 16)\n"
     ]
    }
   ],
   "source": [
    "print(\"Elementos desde el índice 10 al 15 de la tupla:\", numeros[10:16])"
   ]
  },
  {
   "attachments": {},
   "cell_type": "markdown",
   "metadata": {},
   "source": [
    "18) Evaluar si los números 20 y 30 están dentro de la tupla"
   ]
  },
  {
   "cell_type": "code",
   "execution_count": 24,
   "metadata": {},
   "outputs": [
    {
     "name": "stdout",
     "output_type": "stream",
     "text": [
      "18) ¿El número 20 está en la tupla? True\n",
      "    ¿El número 30 está en la tupla? False\n"
     ]
    }
   ],
   "source": [
    "print(\"¿El número 20 está en la tupla?\", 20 in numeros)\n",
    "print(\"¿El número 30 está en la tupla?\", 30 in numeros)"
   ]
  },
  {
   "attachments": {},
   "cell_type": "markdown",
   "metadata": {},
   "source": [
    "19) Con la lista creada en el punto 1, validar la existencia del elemento 'París' y si no existe, agregarlo. Utilizar una variable e informar lo sucedido."
   ]
  },
  {
   "cell_type": "code",
   "execution_count": 25,
   "metadata": {},
   "outputs": [
    {
     "name": "stdout",
     "output_type": "stream",
     "text": [
      "París fue agregado a la lista.\n"
     ]
    }
   ],
   "source": [
    "if \"París\" not in ciudades:\n",
    "    ciudades.append(\"París\")\n",
    "    resultado = \"París fue agregado a la lista.\"\n",
    "else:\n",
    "    resultado = \"París ya existe en la lista.\"\n",
    "print(resultado)"
   ]
  },
  {
   "attachments": {},
   "cell_type": "markdown",
   "metadata": {},
   "source": [
    "20) Mostrar la cantidad de veces que se encuentra un elemento específico dentro de la tupla y de la lista"
   ]
  },
  {
   "cell_type": "code",
   "execution_count": 26,
   "metadata": {},
   "outputs": [
    {
     "name": "stdout",
     "output_type": "stream",
     "text": [
      "Cantidad de veces que Madrid aparece en la tupla: 1\n",
      "Cantidad de veces que Madrid aparece en la lista: 2\n"
     ]
    }
   ],
   "source": [
    "elemento_especifico = \"Madrid\"\n",
    "cantidad_en_tupla = numeros.count(10)\n",
    "cantidad_en_lista = ciudades.count(elemento_especifico)\n",
    "print(\"Cantidad de veces que\", elemento_especifico, \"aparece en la tupla:\", cantidad_en_tupla)\n",
    "print(\"Cantidad de veces que\", elemento_especifico, \"aparece en la lista:\", cantidad_en_lista)"
   ]
  },
  {
   "attachments": {},
   "cell_type": "markdown",
   "metadata": {},
   "source": [
    "21) Convertir la tupla en una lista"
   ]
  },
  {
   "cell_type": "code",
   "execution_count": 28,
   "metadata": {},
   "outputs": [
    {
     "name": "stdout",
     "output_type": "stream",
     "text": [
      "Tupla convertida en lista: [1, 2, 3, 4, 5, 6, 7, 8, 9, 10, 11, 12, 13, 14, 15, 16, 17, 18, 19, 20]\n"
     ]
    }
   ],
   "source": [
    "numeros_lista = list(numeros)\n",
    "print(\"Tupla convertida en lista:\", numeros_lista)"
   ]
  },
  {
   "attachments": {},
   "cell_type": "markdown",
   "metadata": {},
   "source": [
    "22) Desempaquetar solo los primeros 3 elementos de la tupla en 3 variables"
   ]
  },
  {
   "cell_type": "code",
   "execution_count": 29,
   "metadata": {},
   "outputs": [
    {
     "name": "stdout",
     "output_type": "stream",
     "text": [
      "Desempaquetado de los primeros 3 elementos: 1 2 3\n"
     ]
    }
   ],
   "source": [
    "primero, segundo, tercero, *resto = numeros\n",
    "print(\"Desempaquetado de los primeros 3 elementos:\", primero, segundo, tercero)"
   ]
  },
  {
   "attachments": {},
   "cell_type": "markdown",
   "metadata": {},
   "source": [
    "23) Crear un diccionario utilizando la lista crada en el punto 1, asignandole la clave \"ciudad\". Agregar tambien otras claves, como puede ser \"Pais\" y \"Continente\"."
   ]
  },
  {
   "cell_type": "code",
   "execution_count": 30,
   "metadata": {},
   "outputs": [
    {
     "name": "stdout",
     "output_type": "stream",
     "text": [
      "Diccionario creado: {'ciudad': ['Nueva York', 'Londres', 'Tokio', 'Roma', 'Sídney', 'Madrid', 'Buenos Aires', 'Madrid', 'Buenos Aires', 'Londres', 'Buenos Aires', 'Los Ángeles', 'París'], 'Pais': 'Varios', 'Continente': 'Varios'}\n"
     ]
    }
   ],
   "source": [
    "ciudades_dict = {\"ciudad\": ciudades, \"Pais\": \"Varios\", \"Continente\": \"Varios\"}\n",
    "print(\"Diccionario creado:\", ciudades_dict)"
   ]
  },
  {
   "attachments": {},
   "cell_type": "markdown",
   "metadata": {},
   "source": [
    "24) Imprimir las claves del diccionario"
   ]
  },
  {
   "cell_type": "code",
   "execution_count": 31,
   "metadata": {},
   "outputs": [
    {
     "name": "stdout",
     "output_type": "stream",
     "text": [
      "Claves del diccionario: ['ciudad', 'Pais', 'Continente']\n"
     ]
    }
   ],
   "source": [
    "print(\"Claves del diccionario:\", list(ciudades_dict.keys()))"
   ]
  },
  {
   "attachments": {},
   "cell_type": "markdown",
   "metadata": {},
   "source": [
    "25) Imprimir las ciudades a través de su clave"
   ]
  },
  {
   "cell_type": "code",
   "execution_count": 32,
   "metadata": {},
   "outputs": [
    {
     "name": "stdout",
     "output_type": "stream",
     "text": [
      "Ciudades a través de su clave: ['Nueva York', 'Londres', 'Tokio', 'Roma', 'Sídney', 'Madrid', 'Buenos Aires', 'Madrid', 'Buenos Aires', 'Londres', 'Buenos Aires', 'Los Ángeles', 'París']\n"
     ]
    }
   ],
   "source": [
    "print(\"Ciudades a través de su clave:\", ciudades_dict[\"ciudad\"])"
   ]
  }
 ],
 "metadata": {
  "interpreter": {
   "hash": "c85384e4cb51c8b72350f3a8712cc8351fdc3955e32a27f9b60c6242ab125f01"
  },
  "kernelspec": {
   "display_name": "Python 3 (ipykernel)",
   "language": "python",
   "name": "python3"
  },
  "language_info": {
   "codemirror_mode": {
    "name": "ipython",
    "version": 3
   },
   "file_extension": ".py",
   "mimetype": "text/x-python",
   "name": "python",
   "nbconvert_exporter": "python",
   "pygments_lexer": "ipython3",
   "version": "3.12.2"
  }
 },
 "nbformat": 4,
 "nbformat_minor": 4
}
