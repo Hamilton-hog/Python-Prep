{
 "cells": [
  {
   "attachments": {},
   "cell_type": "markdown",
   "metadata": {},
   "source": [
    "## Flujos de Control"
   ]
  },
  {
   "attachments": {},
   "cell_type": "markdown",
   "metadata": {},
   "source": [
    "1) Crear una variable que contenga un elemento del conjunto de números enteros y luego imprimir por pantalla si es mayor o menor a cero"
   ]
  },
  {
   "cell_type": "code",
   "execution_count": 8,
   "metadata": {},
   "outputs": [
    {
     "name": "stdout",
     "output_type": "stream",
     "text": [
      "Valor no valido\n"
     ]
    }
   ],
   "source": [
    "try:\n",
    "    Num_E=int(input(\"Ingresa un numero entero: \"))\n",
    "    if Num_E > 0:\n",
    "        print(\"El numero \",Num_E,\" es mayor a 0\")\n",
    "    elif Num_E < 0:\n",
    "        print(\"El numero \",Num_E,\" es menor que 0\")\n",
    "    else:\n",
    "        print(\"El numero es igual a 0\")\n",
    "except:\n",
    "    print(\"Valor no valido\")"
   ]
  },
  {
   "attachments": {},
   "cell_type": "markdown",
   "metadata": {},
   "source": [
    "2) Crear dos variables y un condicional que informe si son del mismo tipo de dato"
   ]
  },
  {
   "cell_type": "code",
   "execution_count": 12,
   "metadata": {},
   "outputs": [
    {
     "name": "stdout",
     "output_type": "stream",
     "text": [
      "Las variables corresponden a tipos diferentes\n"
     ]
    }
   ],
   "source": [
    "Var_A=input(\"Ingresa un valor de cualquier tipo: \")\n",
    "Var_E=input(\"Ingreso otro valor de cualquier tipo: \")\n",
    "if Var_A==Var_E:\n",
    "    print(\"Las variables son del  mismo tipo\")\n",
    "else:\n",
    "    print(\"Las variables corresponden a tipos diferentes\")"
   ]
  },
  {
   "attachments": {},
   "cell_type": "markdown",
   "metadata": {},
   "source": [
    "3) Para los valores enteros del 1 al 20, imprimir por pantalla si es par o impar"
   ]
  },
  {
   "cell_type": "code",
   "execution_count": 13,
   "metadata": {},
   "outputs": [
    {
     "name": "stdout",
     "output_type": "stream",
     "text": [
      "El número  1  es impar\n",
      "El número  2  es par\n",
      "El número  3  es impar\n",
      "El número  4  es par\n",
      "El número  5  es impar\n",
      "El número  6  es par\n",
      "El número  7  es impar\n",
      "El número  8  es par\n",
      "El número  9  es impar\n",
      "El número  10  es par\n",
      "El número  11  es impar\n",
      "El número  12  es par\n",
      "El número  13  es impar\n",
      "El número  14  es par\n",
      "El número  15  es impar\n",
      "El número  16  es par\n",
      "El número  17  es impar\n",
      "El número  18  es par\n",
      "El número  19  es impar\n",
      "El número  20  es par\n"
     ]
    }
   ],
   "source": [
    "for i in range(1, 21):\n",
    "    if i % 2 == 0:\n",
    "        print('El número ', str(i), ' es par')\n",
    "    else:\n",
    "        print('El número ', str(i), ' es impar')"
   ]
  },
  {
   "attachments": {},
   "cell_type": "markdown",
   "metadata": {},
   "source": [
    "4) En un ciclo for mostrar para los valores entre 0 y 5 el resultado de elevarlo a la potencia igual a 3"
   ]
  },
  {
   "cell_type": "code",
   "execution_count": 15,
   "metadata": {},
   "outputs": [
    {
     "name": "stdout",
     "output_type": "stream",
     "text": [
      "Valor: 0  Elevado a la 3ra potencia: 0\n",
      "Valor: 1  Elevado a la 3ra potencia: 1\n",
      "Valor: 2  Elevado a la 3ra potencia: 8\n",
      "Valor: 3  Elevado a la 3ra potencia: 27\n",
      "Valor: 4  Elevado a la 3ra potencia: 64\n",
      "Valor: 5  Elevado a la 3ra potencia: 125\n"
     ]
    }
   ],
   "source": [
    "for i in range(0, 6):\n",
    "    print('Valor:', str(i), ' Elevado a la 3ra potencia:', str(i**3))"
   ]
  },
  {
   "attachments": {},
   "cell_type": "markdown",
   "metadata": {},
   "source": [
    "5) Crear una variable que contenga un número entero y realizar un ciclo for la misma cantidad de ciclos"
   ]
  },
  {
   "cell_type": "code",
   "execution_count": 19,
   "metadata": {},
   "outputs": [
    {
     "name": "stdout",
     "output_type": "stream",
     "text": [
      "vuelta numero:  1\n",
      "vuelta numero:  2\n",
      "vuelta numero:  3\n",
      "vuelta numero:  4\n",
      "vuelta numero:  5\n"
     ]
    }
   ],
   "source": [
    "try:\n",
    "    Var_C=int(input(\"Ingresa un numero entero: \"))\n",
    "    for i in range(Var_C):\n",
    "        print(\"vuelta numero: \",(i+1))\n",
    "except:\n",
    "    print(\"Valor erroneo\")"
   ]
  },
  {
   "attachments": {},
   "cell_type": "markdown",
   "metadata": {},
   "source": [
    "6) Utilizar un ciclo while para realizar el factorial de un número guardado en una variable, sólo si la variable contiene un número entero mayor a 0"
   ]
  },
  {
   "cell_type": "code",
   "execution_count": 22,
   "metadata": {},
   "outputs": [
    {
     "name": "stdout",
     "output_type": "stream",
     "text": [
      "La variable no es mayor a cero\n"
     ]
    }
   ],
   "source": [
    "try:\n",
    "    Var_F = int(input(\"Ingresa un numero entero mayor a 0: \"))\n",
    "\n",
    "    if (Var_F > 0):\n",
    "        factorial = Var_F\n",
    "        while (Var_F > 2):\n",
    "            Var_F = Var_F - 1\n",
    "            factorial = factorial * Var_F\n",
    "        print('El factorial es', factorial)\n",
    "    else:\n",
    "        print('La variable no es mayor a cero') \n",
    "except:\n",
    "    print(\"ingresaste un valor no valido\")"
   ]
  },
  {
   "attachments": {},
   "cell_type": "markdown",
   "metadata": {},
   "source": [
    "7) Crear un ciclo for dentro de un ciclo while"
   ]
  },
  {
   "cell_type": "code",
   "execution_count": 23,
   "metadata": {},
   "outputs": [
    {
     "name": "stdout",
     "output_type": "stream",
     "text": [
      "Iteración del while: 0\n",
      "Iteración del for: 0\n",
      "Iteración del for: 1\n",
      "Iteración del for: 2\n",
      "Iteración del while: 1\n",
      "Iteración del for: 0\n",
      "Iteración del for: 1\n",
      "Iteración del for: 2\n",
      "Iteración del while: 2\n",
      "Iteración del for: 0\n",
      "Iteración del for: 1\n",
      "Iteración del for: 2\n",
      "Fin del programa\n"
     ]
    }
   ],
   "source": [
    "contador_while = 0\n",
    "\n",
    "while contador_while < 3:\n",
    "    print(\"Iteración del while:\", contador_while)\n",
    "    \n",
    "    for i in range(3):\n",
    "        print(\"Iteración del for:\", i)\n",
    "    \n",
    "    contador_while += 1\n",
    "\n",
    "print(\"Fin del programa\")"
   ]
  },
  {
   "attachments": {},
   "cell_type": "markdown",
   "metadata": {},
   "source": [
    "8) Crear un ciclo while dentro de un ciclo for"
   ]
  },
  {
   "cell_type": "code",
   "execution_count": 24,
   "metadata": {},
   "outputs": [
    {
     "name": "stdout",
     "output_type": "stream",
     "text": [
      "Iteración del for: 1\n",
      "Iteración del while dentro del for: 0\n",
      "Iteración del for: 2\n",
      "Iteración del while dentro del for: 0\n",
      "Iteración del while dentro del for: 1\n",
      "Iteración del for: 3\n",
      "Iteración del while dentro del for: 0\n",
      "Iteración del while dentro del for: 1\n",
      "Iteración del while dentro del for: 2\n",
      "Fin del programa\n"
     ]
    }
   ],
   "source": [
    "for i in range(1, 4):\n",
    "    print(\"Iteración del for:\", i)\n",
    "    \n",
    "    contador_while = 0\n",
    "    \n",
    "    while contador_while < i:\n",
    "        print(\"Iteración del while dentro del for:\", contador_while)\n",
    "        contador_while += 1\n",
    "\n",
    "print(\"Fin del programa\")"
   ]
  },
  {
   "attachments": {},
   "cell_type": "markdown",
   "metadata": {},
   "source": [
    "9) Imprimir los números primos existentes entre 0 y 30"
   ]
  },
  {
   "cell_type": "code",
   "execution_count": 26,
   "metadata": {},
   "outputs": [
    {
     "name": "stdout",
     "output_type": "stream",
     "text": [
      "Números primos entre 0 y 30:\n",
      "2 3 5 7 11 13 17 19 23 29 "
     ]
    }
   ],
   "source": [
    "print(\"Números primos entre 0 y 30:\")\n",
    "for num in range(2, 31): \n",
    "    es_primo = True\n",
    "    divisor = 2\n",
    "    while divisor <= num ** 0.5 and es_primo:\n",
    "        if num % divisor == 0:\n",
    "            es_primo = False\n",
    "        divisor += 1\n",
    "    if es_primo:\n",
    "        print(num, end=\" \")"
   ]
  },
  {
   "attachments": {},
   "cell_type": "markdown",
   "metadata": {},
   "source": [
    "10) ¿Se puede mejorar el proceso del punto 9? Utilizar las sentencias break y/ó continue para tal fin"
   ]
  },
  {
   "cell_type": "code",
   "execution_count": null,
   "metadata": {},
   "outputs": [],
   "source": [
    "print(\"Números primos entre 0 y 30:\")\n",
    "for num in range(2, 31):\n",
    "    es_primo = True\n",
    "    for divisor in range(2, int(num ** 0.5) + 1):\n",
    "        if num % divisor == 0:\n",
    "            es_primo = False\n",
    "            break\n",
    "    if es_primo:\n",
    "        print(num, end=\" \")\n"
   ]
  },
  {
   "attachments": {},
   "cell_type": "markdown",
   "metadata": {},
   "source": [
    "11) En los puntos 9 y 10, se diseño un código que encuentra números primos y además se lo optimizó. ¿Es posible saber en qué medida se optimizó?"
   ]
  },
  {
   "cell_type": "code",
   "execution_count": null,
   "metadata": {},
   "outputs": [],
   "source": [
    "#La optimización introducida en el punto 10 permite salir del bucle interno tan pronto como se encuentra un divisor, \n",
    "#lo que puede mejorar significativamente el rendimiento para números que no son primos. \n",
    "#Esto reduce la cantidad de iteraciones necesarias en esos casos específicos, \n",
    "#pero la complejidad computacional sigue siendo la misma en términos generales."
   ]
  },
  {
   "attachments": {},
   "cell_type": "markdown",
   "metadata": {},
   "source": [
    "12) Aplicando continue, armar un ciclo while que solo imprima los valores divisibles por 12, dentro del rango de números de 100 a 300"
   ]
  },
  {
   "cell_type": "code",
   "execution_count": null,
   "metadata": {},
   "outputs": [],
   "source": [
    "num = 100\n",
    "while num <= 300:\n",
    "    if num % 12 != 0:\n",
    "        num += 1\n",
    "        continue\n",
    "    print(num)\n",
    "    num += 1"
   ]
  },
  {
   "attachments": {},
   "cell_type": "markdown",
   "metadata": {},
   "source": [
    "13) Utilizar la función **input()** que permite hacer ingresos por teclado, para encontrar números primos y dar la opción al usario de buscar el siguiente"
   ]
  },
  {
   "cell_type": "code",
   "execution_count": 27,
   "metadata": {},
   "outputs": [
    {
     "name": "stdout",
     "output_type": "stream",
     "text": [
      "El siguiente número primo después de 2 es: 3\n",
      "¡Hasta luego!\n"
     ]
    }
   ],
   "source": [
    "while True:\n",
    "    numero_ingresado = int(input(\"Ingresa un número para encontrar el siguiente número primo (o ingresa 0 para salir): \"))\n",
    "    if numero_ingresado == 0:\n",
    "        print(\"¡Hasta luego!\")\n",
    "        break\n",
    "    siguiente = numero_ingresado + 1\n",
    "    while True:\n",
    "        es_primo = True\n",
    "        for i in range(2, int(siguiente ** 0.5) + 1):\n",
    "            if siguiente % i == 0:\n",
    "                es_primo = False\n",
    "                break\n",
    "        if es_primo:\n",
    "            print(f\"El siguiente número primo después de {numero_ingresado} es: {siguiente}\")\n",
    "            break\n",
    "        siguiente += 1\n",
    "    continuar = input(\"¿Quieres encontrar el siguiente número primo? (s/n): \")\n",
    "    if continuar.lower() != 's':\n",
    "        print(\"¡Hasta luego!\")\n",
    "        break"
   ]
  },
  {
   "attachments": {},
   "cell_type": "markdown",
   "metadata": {},
   "source": [
    "14) Crear un ciclo while que encuentre dentro del rango de 100 a 300 el primer número divisible por 3 y además múltiplo de 6"
   ]
  },
  {
   "cell_type": "code",
   "execution_count": 28,
   "metadata": {},
   "outputs": [
    {
     "name": "stdout",
     "output_type": "stream",
     "text": [
      "El primer número divisible por 3 y múltiplo de 6 es: 102\n"
     ]
    }
   ],
   "source": [
    "num = 100\n",
    "while num <= 300:\n",
    "    if num % 3 == 0 and num % 6 == 0:\n",
    "        print(\"El primer número divisible por 3 y múltiplo de 6 es:\", num)\n",
    "        break\n",
    "    num += 1\n"
   ]
  }
 ],
 "metadata": {
  "interpreter": {
   "hash": "c85384e4cb51c8b72350f3a8712cc8351fdc3955e32a27f9b60c6242ab125f01"
  },
  "kernelspec": {
   "display_name": "Python 3 (ipykernel)",
   "language": "python",
   "name": "python3"
  },
  "language_info": {
   "codemirror_mode": {
    "name": "ipython",
    "version": 3
   },
   "file_extension": ".py",
   "mimetype": "text/x-python",
   "name": "python",
   "nbconvert_exporter": "python",
   "pygments_lexer": "ipython3",
   "version": "3.10.6"
  }
 },
 "nbformat": 4,
 "nbformat_minor": 4
}
